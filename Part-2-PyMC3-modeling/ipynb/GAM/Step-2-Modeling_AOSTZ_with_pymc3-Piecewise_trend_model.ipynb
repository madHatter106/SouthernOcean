{
 "cells": [
  {
   "cell_type": "markdown",
   "metadata": {},
   "source": [
    "## <u>Notebook Synopsis</u>:<br>\n",
    "\n",
    "Here I develop a set of models similar to that of Step-1-, here substituting the single trend component for a piecewise trend sub-model. Specifically I:\n",
    "\n",
    "* Load the training data generated and saved in previous NB.\n",
    "* Develop and combine piecewise trend, seasonal, and residual noise submodels similar to  previous NB.\n",
    "* Compare models using WAIC or PSIS-LOOCV.\n",
    "* Retain and save models predicted to perform better."
   ]
  },
  {
   "cell_type": "code",
   "execution_count": 1,
   "metadata": {
    "scrolled": true
   },
   "outputs": [],
   "source": [
    "import pickle\n",
    "import pathlib\n",
    "from platform import python_version as pyver\n",
    "\n",
    "import pandas as pd\n",
    "import numpy as np\n",
    "import pymc3 as pm\n",
    "import theano.tensor as tt\n",
    "\n",
    "from sklearn.preprocessing import MinMaxScaler\n",
    "\n",
    "import arviz as ar\n",
    "import matplotlib.pyplot as pl\n",
    "import matplotlib.dates as mdates\n",
    "from matplotlib import rcParams"
   ]
  },
  {
   "cell_type": "code",
   "execution_count": 2,
   "metadata": {},
   "outputs": [],
   "source": [
    "def print_ver(pkg, name=None):\n",
    "    try:\n",
    "        print(f'{pkg.__name__}: {pkg.__version__}')\n",
    "    except AttributeError:\n",
    "        print(f'{name}: {pkg}')"
   ]
  },
  {
   "cell_type": "code",
   "execution_count": 3,
   "metadata": {},
   "outputs": [
    {
     "name": "stdout",
     "output_type": "stream",
     "text": [
      "python: 3.7.3\n",
      "numpy: 1.16.4\n",
      "pandas: 0.24.2\n",
      "pymc3: 3.7\n",
      "arviz: 0.4.1\n"
     ]
    }
   ],
   "source": [
    "print_ver(pyver(), 'python')\n",
    "for pi in [np, pd, pm, ar]:\n",
    "    print_ver(pi)"
   ]
  },
  {
   "cell_type": "code",
   "execution_count": 4,
   "metadata": {},
   "outputs": [],
   "source": [
    "%matplotlib inline\n",
    "\n",
    "years = mdates.YearLocator(day=1)\n",
    "months = mdates.MonthLocator(bymonthday=1)\n",
    "rcParams['xtick.major.size'] = 8\n",
    "rcParams['xtick.minor.size'] = 4\n",
    "rcParams['xtick.minor.visible'] = True\n",
    "rcParams['xtick.labelsize'] = 16\n",
    "rcParams['ytick.labelsize'] = 16\n",
    "rcParams['axes.labelsize'] = 16\n",
    "rcParams['axes.titlesize'] = 18\n",
    "rcParams['axes.formatter.limits'] = (-3, 2)"
   ]
  },
  {
   "cell_type": "code",
   "execution_count": 5,
   "metadata": {},
   "outputs": [],
   "source": [
    "with open('../../pickleJar/datadict.pkl', 'rb') as fb:\n",
    "    datadict = pickle.load(fb)\n",
    "df = pd.DataFrame(datadict['frame'],)\n",
    "df['aostz_scaled'] = datadict['y_s']\n",
    "minmax_t = MinMaxScaler()\n",
    "df['t_scaled'] = minmax_t.fit_transform(datadict['x'][:,None]).squeeze()\n",
    "del datadict"
   ]
  },
  {
   "cell_type": "code",
   "execution_count": 6,
   "metadata": {},
   "outputs": [
    {
     "data": {
      "text/html": [
       "<div>\n",
       "<style scoped>\n",
       "    .dataframe tbody tr th:only-of-type {\n",
       "        vertical-align: middle;\n",
       "    }\n",
       "\n",
       "    .dataframe tbody tr th {\n",
       "        vertical-align: top;\n",
       "    }\n",
       "\n",
       "    .dataframe thead th {\n",
       "        text-align: right;\n",
       "    }\n",
       "</style>\n",
       "<table border=\"1\" class=\"dataframe\">\n",
       "  <thead>\n",
       "    <tr style=\"text-align: right;\">\n",
       "      <th></th>\n",
       "      <th>aostz</th>\n",
       "      <th>aostz_scaled</th>\n",
       "      <th>t_scaled</th>\n",
       "    </tr>\n",
       "    <tr>\n",
       "      <th>date</th>\n",
       "      <th></th>\n",
       "      <th></th>\n",
       "      <th></th>\n",
       "    </tr>\n",
       "  </thead>\n",
       "  <tbody>\n",
       "    <tr>\n",
       "      <th>1997-09-01</th>\n",
       "      <td>0.35295</td>\n",
       "      <td>1.402588</td>\n",
       "      <td>0.000000</td>\n",
       "    </tr>\n",
       "    <tr>\n",
       "      <th>1997-10-01</th>\n",
       "      <td>0.33579</td>\n",
       "      <td>1.007622</td>\n",
       "      <td>0.004049</td>\n",
       "    </tr>\n",
       "    <tr>\n",
       "      <th>1997-11-01</th>\n",
       "      <td>0.31870</td>\n",
       "      <td>0.614268</td>\n",
       "      <td>0.008097</td>\n",
       "    </tr>\n",
       "    <tr>\n",
       "      <th>1997-12-01</th>\n",
       "      <td>0.27345</td>\n",
       "      <td>-0.427236</td>\n",
       "      <td>0.012146</td>\n",
       "    </tr>\n",
       "    <tr>\n",
       "      <th>1998-01-01</th>\n",
       "      <td>0.25799</td>\n",
       "      <td>-0.783073</td>\n",
       "      <td>0.016194</td>\n",
       "    </tr>\n",
       "  </tbody>\n",
       "</table>\n",
       "</div>"
      ],
      "text/plain": [
       "              aostz  aostz_scaled  t_scaled\n",
       "date                                       \n",
       "1997-09-01  0.35295      1.402588  0.000000\n",
       "1997-10-01  0.33579      1.007622  0.004049\n",
       "1997-11-01  0.31870      0.614268  0.008097\n",
       "1997-12-01  0.27345     -0.427236  0.012146\n",
       "1998-01-01  0.25799     -0.783073  0.016194"
      ]
     },
     "execution_count": 6,
     "metadata": {},
     "output_type": "execute_result"
    }
   ],
   "source": [
    "df.head()"
   ]
  },
  {
   "cell_type": "markdown",
   "metadata": {},
   "source": [
    "### <u>Modeling a Piecewise Trend</u>:\n",
    "\n",
    "Within the context of Generalized Additive Models(GAMs), which arise from the simple additive combination of submodels, I develop here a set of models following $$y(t) = g(t) + s(t) + ar1(t)$$\n",
    "where \\\\(y(t)\\\\) is the modeled signal (chlorophyll in the AOSTZ sector), \\\\(g(t) \\\\) is the trend (i.e *rate of change*) sub-model, \\\\(s(t)\\\\) is the seasonal sub-model, \\\\(ar1(t)\\\\) is the AR1 residual.\n",
    "\n",
    "The piecewise model is implemented by inserting a fixed number of changepoints such that $$g(t) = (k + a(t)^T\\delta)t + (m + a(t)^T\\gamma)$$\n",
    "where \\\\(k\\\\) is the base trend, modified by preset changpoints stored in a vector \\\\(s\\\\). At each unique changepoint \\\\(s_j\\\\) the trend is adjusted by \\\\(\\delta_j\\\\), stored in a vector \\\\(\\delta\\\\), everytime \\\\(t\\\\) surpasses a changepoint \\\\(s_j\\\\). Used for this purpose, \\\\(a(t)\\\\) is basically a vectorized switchboard that turns on for a given switchpoint such that \n",
    "\\begin{equation}\n",
    "a(t) = \n",
    "    \\begin{cases} 1 , & \\text{if $t \\geq s_j$} \\\\ \n",
    "0 , & \\text{otherwise}\n",
    "\\end{cases} \n",
    "\\end{equation}\n",
    "The second part, \\\\( m + a(t)^T\\gamma\\\\) ensures the segments defined by the switchpoints are connected. Here, \\\\(m\\\\) is an offset parameter, and \\\\(\\gamma_j\\\\) is set to \\\\(-s_j\\delta_j\\\\).\n",
    "\n",
    "The issue though is to find the right number of preset changepoint that will capture actual changepoints while not bogging down the inference. Moreover, for the sake of practicality, these will need to be regularly spaced. Here I try several setups including, one change point at the beginning of the year, and one for every season (4pts/year), one every two months (6pts/year), and one for every month (as many changepoints as data points). The idea is then to put a rather restrictive  Laplace prior on \\\\(\\delta\\\\) to rule out unlikely changepoints, effectively setting the corresponding \\\\(\\delta_j\\\\) to 0.\n",
    "\n",
    "First is to define some [helper functions as in the previous notebook](https://tinyurl.com/y3nubuqu#helpers):"
   ]
  },
  {
   "cell_type": "code",
   "execution_count": 7,
   "metadata": {},
   "outputs": [],
   "source": [
    "def fourier_series(t, p=12, n=1):\n",
    "    \"\"\"\n",
    "    input:\n",
    "    ------\n",
    "    t [numpy array]: vector of time index\n",
    "    p [int]: period\n",
    "    n [int]: number of fourier components\n",
    "    \n",
    "    output:\n",
    "    -------\n",
    "    sinusoids [numpy array]: 2D array of cosines and sines\n",
    "    \"\"\"\n",
    "    p = p / t.size\n",
    "    wls = 2 * π * np.arange(1, n+1) / p\n",
    "    x_ = wls * t[:, None]\n",
    "    sinusoids = np.concatenate((np.cos(x_), np.sin(x_)), axis=1)\n",
    "    return sinusoids\n",
    "\n",
    "def seasonality(mdl, n_fourier, t):\n",
    "    \"\"\"\n",
    "    m [pymc3 Model class]: model object\n",
    "    n_fourier [int]: number of fourier components\n",
    "    t [numpy array]: vector of time index\n",
    "    \"\"\"\n",
    "    with mdl:\n",
    "        σ = pm.Exponential('σ', 1)\n",
    "        f_coefs = pm.Normal('fourier_coefs', 0, sd=1, shape=(n_fourier*2))\n",
    "        season = pm.Deterministic('season',\n",
    "                                  tt.dot(fourier_series(t, n=n_fourier), f_coefs)\n",
    "                                 )\n",
    "    return season\n",
    "        \n",
    "def piecewise_trend(mdl, s, t, a_t, obs,\n",
    "                    k_prior_scale=5, δ_prior_scale=0.05, m_prior_scale=5):\n",
    "    \"\"\"\n",
    "    input:\n",
    "    ------\n",
    "    \n",
    "    mdl [pymc3 Model class]: model object\n",
    "    s [numpy array]: changepoint vector\n",
    "    t [numpy array]: time vector\n",
    "    obs [numpy array]: vector of observations\n",
    "    a_t [numpy int array]: 2D (t*s) adjustment indicator array \n",
    "    k_prior_scale [float]: base trend normal prior scale parameter (default=5) \n",
    "    δ_prior_scale [float]: trend adjustment laplace prior scale param. (default=0.05)\n",
    "    m_prior_scale [float]: base offset normal prior scale param. (default=5)\n",
    "    \"\"\"    \n",
    "    \n",
    "    with mdl:\n",
    "        # Priors:\n",
    "        k = pm.Normal('k', 0, k_prior_scale) # base trend prior\n",
    "        if δ_prior_scale is None:\n",
    "            δ_prior_scale = pm.Exponential('τ', 1.5)\n",
    "        δ = pm.Laplace('δ', 0, δ_prior_scale, shape=s.size) # rate of change prior\n",
    "        m  = pm.Normal('m', 0, m_prior_scale) # offset prior\n",
    "        γ = -s * δ\n",
    "        trend = pm.Deterministic('trend',\n",
    "                                 (k + tt.dot(a_t, δ)) * t + (m + tt.dot(a_t, γ)))\n",
    "    return trend\n",
    "\n",
    "    \n",
    "def ar1_residual(mdl, n_obs):\n",
    "    with mdl:\n",
    "        k_ = pm.Uniform('k', -1.1, 1.1)\n",
    "        tau_ = pm.Gamma('tau', 10, 3)\n",
    "        ar1 = pm.AR1('ar1', k=k_, tau_e=tau_, shape=n_obs) \n",
    "    return ar1\n",
    "\n",
    "\n",
    "def changepoint_setup(t, n_changepoints, s_start=None, s=None, changepoint_range=1):\n",
    "    \"\"\"\n",
    "    input:\n",
    "    ------\n",
    "    t [numpy array]: time vector\n",
    "    n_changepoints [int]: number of changepoints to consider\n",
    "    s [numpy array]: user-specified changepoint vector (default=None)\n",
    "    s_start [int]: changepoint start index (default=0)\n",
    "    changepoint_range[int]: adjustable time proportion (default=1)\n",
    "    \n",
    "    output:\n",
    "    -------\n",
    "    s [numpy array]: changepoint vector\n",
    "    a_t [numpy int array]: 2D (t*s) adjustment indicator array\n",
    "    \"\"\"\n",
    "    if s is None:\n",
    "        if s_start is None:\n",
    "            s = np.linspace(start=0, stop=changepoint_range*t.max(), \n",
    "                            num=n_changepoints+1)[1:]\n",
    "        else:\n",
    "            s = np.linspace(start=s_start, stop=changepoint_range*t.max(), \n",
    "                            num=n_changepoints)\n",
    "    a_t = (t[:,None] > s) * 1\n",
    "    return a_t, s\n",
    "\n",
    "\n",
    "def model_runner(t_, obs_s, add_trend=False, add_season=False, add_AR1=False,\n",
    "                **payload):\n",
    "    mdl = pm.Model()\n",
    "    a_t, s = None, None\n",
    "    with mdl:\n",
    "        y_ = 0\n",
    "        σ = pm.HalfCauchy('σ', 2.5)\n",
    "        if add_trend:\n",
    "            n_switches = payload.pop('n_switches', t_.size)\n",
    "            s_start = payload.pop('s_start', None)\n",
    "            s = payload.pop('s', None)\n",
    "            chg_pt_rng = payload.pop('changepoint_range', 1)\n",
    "            k_prior_scale = payload.pop('k_prior_scale', 5)\n",
    "            δ_prior_scale = payload.pop('δ_prior_scale', 0.05)\n",
    "            m_prior_scale = payload.pop('m_prior_scale', 5)\n",
    "            a_t, s = changepoint_setup(t_, n_switches, s_start=s_start, s=s, \n",
    "                                       changepoint_range=chg_pt_rng)\n",
    "            trend_ = piecewise_trend(mdl, s, t_, a_t, obs_s,\n",
    "                                     k_prior_scale, δ_prior_scale, m_prior_scale)\n",
    "            y_ += trend_\n",
    "        if add_season:\n",
    "            n_fourier = payload.pop('n_fourier', 4)\n",
    "            season = seasonality(mdl, n_fourier=n_fourier, t=t_)\n",
    "            y_ += season\n",
    "        \n",
    "        if add_AR1:\n",
    "            ar1 = ar1_residual(mdl, obs_s.size)\n",
    "            y_ += ar1\n",
    "        pm.Normal('obs', mu=y_, sd=σ, observed=obs_s)\n",
    "    return mdl, a_t, s\n",
    "\n",
    "\n",
    "def sanity_check(m, df):\n",
    "    \"\"\"\n",
    "    :param m: (pm.Model)\n",
    "    :param df: (pd.DataFrame)\n",
    "    \"\"\"\n",
    "    # Sample from the prior and check of the model is well defined.\n",
    "    y = pm.sample_prior_predictive(model=m, vars=['obs'])['obs']\n",
    "    pl.figure(figsize=(16, 6))\n",
    "    pl.plot(y.mean(0), label='mean prior')\n",
    "    pl.fill_between(np.arange(y.shape[1]), -y.std(0), y.std(0), alpha=0.25, label='standard deviation')\n",
    "    pl.plot(df['y_scaled'], label='true value')\n",
    "    pl.legend()\n",
    "\n",
    "    \n",
    "def plot_component(axi, x, y, hpd_=None, obs=None, line_label=None, y_axis_label=None,\n",
    "                  ax_title=None):\n",
    "    \n",
    "    if isinstance(obs, np.ndarray):\n",
    "        axi.plot(x, obs, color='k', label='observations')\n",
    "    axi.plot(x, y, color='darkblue', label=line_label)\n",
    "    if isinstance(hpd_, np.ndarray):\n",
    "        axi.fill_between(x, hpd_[:, 0], hpd_[:, 1], color='steelblue',\n",
    "                         alpha=0.5, label='95% CI')\n",
    "    if y_axis_label:\n",
    "        axi.set_ylabel(y_axis_label)\n",
    "    axi.legend()\n",
    "    if ax_title:\n",
    "        axi.set_title(ax_title)\n",
    "    axi.xaxis_date()\n",
    "    axi.xaxis.set_major_locator(years)\n",
    "    axi.xaxis.set_minor_locator(months)\n",
    "    axi.tick_params(axis='x', labelrotation=30)\n",
    "    axi.grid()"
   ]
  },
  {
   "cell_type": "code",
   "execution_count": 8,
   "metadata": {},
   "outputs": [],
   "source": [
    "mdl_trend_only, A, s_pts = model_runner(df.t_scaled, df.aostz_scaled,\n",
    "                                        add_trend=True, n_switches=df.shape[0],)"
   ]
  },
  {
   "cell_type": "code",
   "execution_count": 9,
   "metadata": {},
   "outputs": [
    {
     "data": {
      "text/plain": [
       "'../../figjar/piecewise_trend_only.png'"
      ]
     },
     "execution_count": 9,
     "metadata": {},
     "output_type": "execute_result"
    }
   ],
   "source": [
    "render = pm.model_to_graphviz(mdl_trend_only)\n",
    "render.render('piecewise_trend_only', directory='../../figjar/', format='png')"
   ]
  },
  {
   "cell_type": "markdown",
   "metadata": {},
   "source": [
    "<img src='../../figjar/piecewise_trend_only.png?:0'/>"
   ]
  },
  {
   "cell_type": "code",
   "execution_count": null,
   "metadata": {},
   "outputs": [],
   "source": []
  },
  {
   "cell_type": "code",
   "execution_count": 17,
   "metadata": {},
   "outputs": [
    {
     "data": {
      "image/png": "[encoded data removed]",
      "text/plain": [
       "<Figure size 1152x432 with 1 Axes>"
      ]
     },
     "metadata": {
      "needs_background": "light"
     },
     "output_type": "display_data"
    }
   ],
   "source": [
    "y = pm.sample_prior_predictive(model=mdl_trend_only, vars=['obs'])['obs']\n",
    "pl.figure(figsize=(16, 6))\n",
    "pl.plot(y.mean(0), label='mean prior')\n",
    "pl.fill_between(np.arange(y.shape[1]), -y.std(0), y.std(0), alpha=0.25, \n",
    "                label='standard deviation')\n",
    "pl.plot(df.aostz_scaled.values, marker='.', label='true value', )\n",
    "pl.hlines(0, 0,  df.shape[0], linestyles='--', label='expected trend')\n",
    "pl.legend();"
   ]
  },
  {
   "cell_type": "code",
   "execution_count": 18,
   "metadata": {},
   "outputs": [
    {
     "name": "stderr",
     "output_type": "stream",
     "text": [
      "Auto-assigning NUTS sampler...\n",
      "Initializing NUTS using jitter+adapt_diag...\n",
      "Multiprocess sampling (4 chains in 4 jobs)\n",
      "NUTS: [m, δ, k, σ]\n",
      "Sampling 4 chains: 100%|██████████| 16000/16000 [21:50<00:00, 12.21draws/s]\n"
     ]
    }
   ],
   "source": [
    "with mdl_trend_only:\n",
    "    trace_trend_only = pm.sample(2000, tune=2000)"
   ]
  },
  {
   "cell_type": "code",
   "execution_count": 19,
   "metadata": {},
   "outputs": [
    {
     "name": "stderr",
     "output_type": "stream",
     "text": [
      "100%|██████████| 8000/8000 [00:10<00:00, 774.34it/s]\n"
     ]
    }
   ],
   "source": [
    "trend_only_inference = ar.from_pymc3(trace=trace_trend_only,\n",
    "                                     prior=pm.sample_prior_predictive(model=mdl_trend_only),\n",
    "                                     posterior_predictive=pm.sample_posterior_predictive(trace_trend_only,\n",
    "                                                                                         model=mdl_trend_only\n",
    "                                                                                        )\n",
    "                                    )"
   ]
  },
  {
   "cell_type": "code",
   "execution_count": 20,
   "metadata": {},
   "outputs": [
    {
     "data": {
      "text/plain": [
       "'../../pickleJar/model_results_nc/piecewise_trend_only_inference.nc'"
      ]
     },
     "execution_count": 20,
     "metadata": {},
     "output_type": "execute_result"
    }
   ],
   "source": [
    "trend_only_inference.to_netcdf('../../pickleJar/model_results_nc/piecewise_trend_only_inference.nc')"
   ]
  },
  {
   "cell_type": "code",
   "execution_count": 21,
   "metadata": {},
   "outputs": [
    {
     "name": "stderr",
     "output_type": "stream",
     "text": [
      "100%|██████████| 8000/8000 [00:10<00:00, 788.73it/s]\n"
     ]
    }
   ],
   "source": [
    "ppc_obs = pm.sample_posterior_predictive(trace_trend_only, model=mdl_trend_only)['obs']"
   ]
  },
  {
   "cell_type": "code",
   "execution_count": 22,
   "metadata": {},
   "outputs": [
    {
     "ename": "NameError",
     "evalue": "name 'obs' is not defined",
     "output_type": "error",
     "traceback": [
      "\u001b[0;31m---------------------------------------------------------------------------\u001b[0m",
      "\u001b[0;31mNameError\u001b[0m                                 Traceback (most recent call last)",
      "\u001b[0;32m<ipython-input-22-09879f4f147f>\u001b[0m in \u001b[0;36m<module>\u001b[0;34m\u001b[0m\n\u001b[1;32m      2\u001b[0m \u001b[0;34m\u001b[0m\u001b[0m\n\u001b[1;32m      3\u001b[0m \u001b[0mylbl\u001b[0m \u001b[0;34m=\u001b[0m \u001b[0;34m'standardized chl'\u001b[0m\u001b[0;34m\u001b[0m\u001b[0;34m\u001b[0m\u001b[0m\n\u001b[0;32m----> 4\u001b[0;31m plot_component(ax, df.index, obs.mean(axis=0), hpd_= pm.hpd(obs),\n\u001b[0m\u001b[1;32m      5\u001b[0m                \u001b[0mobs\u001b[0m\u001b[0;34m=\u001b[0m\u001b[0mdf\u001b[0m\u001b[0;34m.\u001b[0m\u001b[0maostz_scaled\u001b[0m\u001b[0;34m.\u001b[0m\u001b[0mvalues\u001b[0m\u001b[0;34m,\u001b[0m \u001b[0mline_label\u001b[0m\u001b[0;34m=\u001b[0m\u001b[0;34m'model_mean'\u001b[0m\u001b[0;34m,\u001b[0m \u001b[0my_axis_label\u001b[0m\u001b[0;34m=\u001b[0m\u001b[0mylbl\u001b[0m\u001b[0;34m,\u001b[0m\u001b[0;34m\u001b[0m\u001b[0;34m\u001b[0m\u001b[0m\n\u001b[1;32m      6\u001b[0m                ax_title='All Components')\n",
      "\u001b[0;31mNameError\u001b[0m: name 'obs' is not defined"
     ]
    },
    {
     "data": {
      "image/png": "[encoded data removed]",
      "text/plain": [
       "<Figure size 864x288 with 1 Axes>"
      ]
     },
     "metadata": {
      "needs_background": "light"
     },
     "output_type": "display_data"
    }
   ],
   "source": [
    "f, ax = pl.subplots(nrows=1, sharex=True, figsize=(12, 4))\n",
    "\n",
    "ylbl = 'standardized chl'\n",
    "plot_component(ax, df.index, obs.mean(axis=0), hpd_= pm.hpd(obs),\n",
    "               obs=df.aostz_scaled.values, line_label='model_mean', y_axis_label=ylbl,\n",
    "               ax_title='All Components')\n",
    "#plot_component(ax[1], d_aostz.index, ts_m4_f4_trend_mu, hpd_=ts_m4_f4_trend_hpd,\n",
    "#               line_label='mean', y_axis_label=ylbl, ax_title='Trend')\n",
    "#plot_component(ax[2], d_aostz.index, ts_m4_f4_season_mu, hpd_=ts_m4_f4_season_hpd,\n",
    "#               line_label='mean', y_axis_label=ylbl,\n",
    "#              ax_title='Season')\n",
    "#plot_component(ax[3], d_aostz.index, ts_m4_f4_ar1_mu, hpd_=ts_m4_f4_ar1_hpd,\n",
    "#              line_label='mean', y_axis_label=ylbl, ax_title='AR1')\n",
    "ax.axhline(label='trend=0', color='r', ls=':');\n",
    "ax.legend();"
   ]
  },
  {
   "cell_type": "code",
   "execution_count": null,
   "metadata": {},
   "outputs": [],
   "source": []
  }
 ],
 "metadata": {
  "kernelspec": {
   "display_name": "Python [conda env:southern_ocean] *",
   "language": "python",
   "name": "conda-env-southern_ocean-py"
  },
  "language_info": {
   "codemirror_mode": {
    "name": "ipython",
    "version": 3
   },
   "file_extension": ".py",
   "mimetype": "text/x-python",
   "name": "python",
   "nbconvert_exporter": "python",
   "pygments_lexer": "ipython3",
   "version": "3.7.3"
  }
 },
 "nbformat": 4,
 "nbformat_minor": 2
}
