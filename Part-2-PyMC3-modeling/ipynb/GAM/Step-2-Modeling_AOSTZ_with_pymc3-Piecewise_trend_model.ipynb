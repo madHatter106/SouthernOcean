{
 "cells": [
  {
   "cell_type": "markdown",
   "metadata": {},
   "source": [
    "## <u>Notebook Synopsis</u>:<br>\n",
    "\n",
    "Here I develop a set of models similar to that of Step-1-, here substituting the single trend component for a piecewise trend sub-model. Specifically I:\n",
    "\n",
    "* Load the training data generated and saved in previous NB.\n",
    "* Develop and combine piecewise trend, seasonal, and residual noise submodels similar to  previous NB.\n",
    "* Compare models using WAIC or PSIS-LOOCV.\n",
    "* Retain and save models predicted to perform better."
   ]
  },
  {
   "cell_type": "code",
   "execution_count": 1,
   "metadata": {
    "scrolled": true
   },
   "outputs": [
    {
     "name": "stderr",
     "output_type": "stream",
     "text": [
      "/accounts/ekarakoy/anaconda3/envs/southern_ocean/lib/python3.7/importlib/_bootstrap.py:219: RuntimeWarning: numpy.ufunc size changed, may indicate binary incompatibility. Expected 192 from C header, got 216 from PyObject\n",
      "  return f(*args, **kwds)\n",
      "/accounts/ekarakoy/anaconda3/envs/southern_ocean/lib/python3.7/importlib/_bootstrap.py:219: RuntimeWarning: numpy.ufunc size changed, may indicate binary incompatibility. Expected 192 from C header, got 216 from PyObject\n",
      "  return f(*args, **kwds)\n",
      "/accounts/ekarakoy/anaconda3/envs/southern_ocean/lib/python3.7/importlib/_bootstrap.py:219: RuntimeWarning: numpy.ufunc size changed, may indicate binary incompatibility. Expected 192 from C header, got 216 from PyObject\n",
      "  return f(*args, **kwds)\n",
      "/accounts/ekarakoy/anaconda3/envs/southern_ocean/lib/python3.7/importlib/_bootstrap.py:219: RuntimeWarning: numpy.dtype size changed, may indicate binary incompatibility. Expected 88 from C header, got 96 from PyObject\n",
      "  return f(*args, **kwds)\n"
     ]
    }
   ],
   "source": [
    "import pickle\n",
    "import pathlib\n",
    "from platform import python_version as pyver\n",
    "\n",
    "import pandas as pd\n",
    "import numpy as np\n",
    "import pymc3 as pm\n",
    "\n",
    "import arviz as ar\n",
    "import matplotlib.pyplot as pl\n",
    "import matplotlib.dates as mdates\n",
    "from matplotlib import rcParams"
   ]
  },
  {
   "cell_type": "code",
   "execution_count": 5,
   "metadata": {},
   "outputs": [],
   "source": [
    "def print_ver(pkg, name=None):\n",
    "    try:\n",
    "        print(f'{pkg.__name__}: {pkg.__version__}')\n",
    "    except AttributeError:\n",
    "        print(f'{name}: {pkg}')"
   ]
  },
  {
   "cell_type": "code",
   "execution_count": 8,
   "metadata": {},
   "outputs": [
    {
     "name": "stdout",
     "output_type": "stream",
     "text": [
      "python: 3.7.3\n",
      "numpy: 1.16.4\n",
      "pandas: 0.24.2\n",
      "pymc3: 3.7\n",
      "arviz: 0.4.1\n"
     ]
    }
   ],
   "source": [
    "print_ver(pyver(), 'python')\n",
    "for pi in [np, pd, pm, ar]:\n",
    "    print_ver(pi)"
   ]
  },
  {
   "cell_type": "code",
   "execution_count": 10,
   "metadata": {},
   "outputs": [],
   "source": [
    "%matplotlib inline\n",
    "\n",
    "years = mdates.YearLocator(day=1)\n",
    "months = mdates.MonthLocator(bymonthday=1)\n",
    "rcParams['xtick.major.size'] = 8\n",
    "rcParams['xtick.minor.size'] = 4\n",
    "rcParams['xtick.minor.visible'] = True\n",
    "rcParams['xtick.labelsize'] = 16\n",
    "rcParams['ytick.labelsize'] = 16\n",
    "rcParams['axes.labelsize'] = 16\n",
    "rcParams['axes.titlesize'] = 18\n",
    "rcParams['axes.formatter.limits'] = (-3, 2)"
   ]
  },
  {
   "cell_type": "code",
   "execution_count": 11,
   "metadata": {},
   "outputs": [
    {
     "name": "stderr",
     "output_type": "stream",
     "text": [
      "/accounts/ekarakoy/anaconda3/envs/southern_ocean/lib/python3.7/importlib/_bootstrap.py:219: RuntimeWarning: numpy.ufunc size changed, may indicate binary incompatibility. Expected 192 from C header, got 216 from PyObject\n",
      "  return f(*args, **kwds)\n",
      "/accounts/ekarakoy/anaconda3/envs/southern_ocean/lib/python3.7/importlib/_bootstrap.py:219: RuntimeWarning: numpy.ufunc size changed, may indicate binary incompatibility. Expected 192 from C header, got 216 from PyObject\n",
      "  return f(*args, **kwds)\n"
     ]
    }
   ],
   "source": [
    "with open('../../pickleJar/datadict.pkl', 'rb') as fb:\n",
    "    datadict = pickle.load(fb)"
   ]
  },
  {
   "cell_type": "code",
   "execution_count": 13,
   "metadata": {},
   "outputs": [],
   "source": [
    "d_aostz = datadict['frame']\n",
    "y_s = datadict['y_s']\n",
    "x = datadict['x']\n",
    "\n",
    "del datadict"
   ]
  },
  {
   "cell_type": "markdown",
   "metadata": {},
   "source": [
    "### <u>Modeling a Piecewise Trend</u>:\n",
    "\n",
    "Within the context of Generalized Additive Models(GAMs), which arise from the simple additive combination of submodels, I develop here a set of models such that $$y(t) = g(t) + s(t) + ar1(t)$$\n",
    "where \\\\(y(t)\\\\) is the modeled signal (chlorophyll in the AOSTZ sector), \\\\(g(t) \\\\) is the trend sub-model, \\\\(s(t)\\\\) is the seasonal sub-model, \\\\(ar1(t)\\\\) is the AR1 residual.\n",
    "\n",
    "The piecewise model is implemented by inserting a fixed number of changepoints such that $$g(t) = (k + a(t)^T\\delta)t + (m + a(t)^T\\gamma)$$\n",
    "where \\\\(k\\\\) is the base trend, modified by preset changpoints stored in a vector \\\\(s\\\\). At each unique changepoint \\\\(s_j\\\\) the growth rate is adjusted by \\\\(\\delta_j\\\\), stored in a vector \\\\(\\delta\\\\), everytime \\\\(t\\\\) surpasses a changepoint \\\\(s_j\\\\). Used for this purpose, \\\\(a(t)\\\\) is basically a vectorized switchboard that turns on for a given switchpoint such that \n",
    "\\begin{equation}\n",
    "a(t) = \n",
    "    \\begin{cases} 1 , & \\text{if $t \\geq s_j$} \\\\ \n",
    "0 , & \\text{otherwise}\n",
    "\\end{cases} \n",
    "\\end{equation}\n",
    "\\\\(m\\\\) is an offset parameter, \\\\(\\delta\\\\) is a vector with growth rate adjusments and \\\\(\\gamma_j\\\\) is set to \\\\(-s_j\\delta_j\\\\), where \\\\(s_j\\\\) is a changepoint in time."
   ]
  },
  {
   "cell_type": "code",
   "execution_count": null,
   "metadata": {},
   "outputs": [],
   "source": []
  }
 ],
 "metadata": {
  "kernelspec": {
   "display_name": "Python [conda env:southern_ocean]",
   "language": "python",
   "name": "conda-env-southern_ocean-py"
  },
  "language_info": {
   "codemirror_mode": {
    "name": "ipython",
    "version": 3
   },
   "file_extension": ".py",
   "mimetype": "text/x-python",
   "name": "python",
   "nbconvert_exporter": "python",
   "pygments_lexer": "ipython3",
   "version": "3.7.3"
  }
 },
 "nbformat": 4,
 "nbformat_minor": 2
}
