{
 "cells": [
  {
   "cell_type": "code",
   "execution_count": 1,
   "metadata": {
    "collapsed": true
   },
   "outputs": [],
   "source": [
    "import theano\n",
    "import theano.tensor as tt\n",
    "import numpy as np"
   ]
  },
  {
   "cell_type": "code",
   "execution_count": 2,
   "metadata": {
    "collapsed": true
   },
   "outputs": [],
   "source": [
    "X = tt.matrix('X')\n",
    "W = tt.matrix('W')\n",
    "b_sym = tt.vector('b_sym')"
   ]
  },
  {
   "cell_type": "code",
   "execution_count": 3,
   "metadata": {},
   "outputs": [],
   "source": [
    "def myfunc(v):\n",
    "    return tt.tanh(tt.dot(v, W)+b_sym)\n",
    "results, _ = theano.scan(myfunc, sequences=X)\n",
    "compute_elementwise = theano.function(inputs=[X, W, b_sym], outputs=results)"
   ]
  },
  {
   "cell_type": "code",
   "execution_count": 6,
   "metadata": {
    "collapsed": true
   },
   "outputs": [],
   "source": [
    "results, updates = theano.scan(lambda v: tt.tanh(tt.dot(v, W) + b_sym), sequences=X)\n",
    "compute_elementwise = theano.function(inputs=[X, W, b_sym], outputs=results)"
   ]
  },
  {
   "cell_type": "code",
   "execution_count": 4,
   "metadata": {},
   "outputs": [],
   "source": [
    "x= np.eye(2, dtype=theano.config.floatX)\n",
    "w = np.ones((2, 2), dtype=theano.config.floatX)\n",
    "b = np.ones((2), dtype=theano.config.floatX)\n",
    "b[1] = 2"
   ]
  },
  {
   "cell_type": "code",
   "execution_count": 5,
   "metadata": {},
   "outputs": [
    {
     "name": "stdout",
     "output_type": "stream",
     "text": [
      "[[ 0.96402758  0.99505475]\n",
      " [ 0.96402758  0.99505475]]\n"
     ]
    }
   ],
   "source": [
    "print(compute_elementwise(x, w, b))"
   ]
  },
  {
   "cell_type": "code",
   "execution_count": 29,
   "metadata": {},
   "outputs": [
    {
     "name": "stdout",
     "output_type": "stream",
     "text": [
      "[[ 0.96402758  0.99505475]\n",
      " [ 0.96402758  0.99505475]]\n"
     ]
    }
   ],
   "source": [
    "print(compute_elementwise(x, w, b))"
   ]
  },
  {
   "cell_type": "code",
   "execution_count": 11,
   "metadata": {},
   "outputs": [
    {
     "name": "stdout",
     "output_type": "stream",
     "text": [
      "[[ 0.96402758  0.99505475]\n",
      " [ 0.96402758  0.99505475]]\n"
     ]
    }
   ],
   "source": [
    "print(np.tanh(x.dot(w)+b))"
   ]
  },
  {
   "cell_type": "markdown",
   "metadata": {},
   "source": [
    "\n",
    " Computing the sequence x(t) = tanh(x(t - 1).dot(W) +p(T - t).dot(V))\n",
    "\n",
    "\n"
   ]
  },
  {
   "cell_type": "code",
   "execution_count": 13,
   "metadata": {
    "collapsed": true
   },
   "outputs": [],
   "source": [
    "X = tt.vector(\"X\")\n",
    "W = tt.matrix(\"W\")\n",
    "P = tt.matrix(\"P\")\n",
    "V = tt.matrix(\"V\")"
   ]
  },
  {
   "cell_type": "code",
   "execution_count": 21,
   "metadata": {},
   "outputs": [],
   "source": [
    "results, _ = theano.scan(lambda p, x_tm1: tt.tanh(tt.dot(x_tm1, W) + tt.dot(p, V)),\n",
    "                         sequences=[P[::-1]], outputs_info=[X]\n",
    "                        )"
   ]
  },
  {
   "cell_type": "code",
   "execution_count": 22,
   "metadata": {},
   "outputs": [],
   "source": [
    "compute_seq = theano.function(inputs=[X, W,P,V], outputs=results)"
   ]
  },
  {
   "cell_type": "code",
   "execution_count": 23,
   "metadata": {
    "collapsed": true
   },
   "outputs": [],
   "source": [
    "x = np.zeros((2), dtype=theano.config.floatX)\n",
    "x[1] = 1\n",
    "w = np.ones((2, 2), dtype=theano.config.floatX)\n",
    "p = np.ones((5, 2), dtype=theano.config.floatX)\n",
    "p[0, :] = 3\n",
    "v = np.ones((2, 2), dtype=theano.config.floatX)"
   ]
  },
  {
   "cell_type": "code",
   "execution_count": 24,
   "metadata": {},
   "outputs": [
    {
     "data": {
      "text/plain": [
       "array([[ 0.99505475,  0.99505475],\n",
       "       [ 0.99931591,  0.99931591],\n",
       "       [ 0.99932746,  0.99932746],\n",
       "       [ 0.99932749,  0.99932749],\n",
       "       [ 0.99999977,  0.99999977]])"
      ]
     },
     "execution_count": 24,
     "metadata": {},
     "output_type": "execute_result"
    }
   ],
   "source": [
    "compute_seq(x, w, p, v)"
   ]
  },
  {
   "cell_type": "markdown",
   "metadata": {},
   "source": [
    "Scan Example: Computing the sequence x(t) = x(t - 1).dot(U) + x(t - 2).dot(V)"
   ]
  },
  {
   "cell_type": "code",
   "execution_count": 32,
   "metadata": {
    "collapsed": true
   },
   "outputs": [],
   "source": [
    "X = tt.vector(\"X\")\n",
    "U = tt.matrix(\"U\")\n",
    "V = tt.matrix(\"V\")\n",
    "n_sym = tt.iscalar('n_sym')"
   ]
  },
  {
   "cell_type": "code",
   "execution_count": 59,
   "metadata": {},
   "outputs": [],
   "source": [
    "results, _ = theano.scan(lambda x_tm1, x_tm2: x_tm1 + x_tm2,\n",
    "                        n_steps=n_sym, outputs_info=[dict(initial=X, \n",
    "                                                          taps=list(-1 * np.arange(1, 3)))])\n",
    "compute_seq2 = theano.function(inputs=[X, n_sym], outputs=results)"
   ]
  },
  {
   "cell_type": "code",
   "execution_count": 64,
   "metadata": {
    "collapsed": true
   },
   "outputs": [],
   "source": [
    "x = np.zeros(30)\n",
    "#x[1] = 1\n",
    "x[1] = 1\n",
    "n = 10"
   ]
  },
  {
   "cell_type": "code",
   "execution_count": 66,
   "metadata": {},
   "outputs": [
    {
     "data": {
      "text/plain": [
       "array([  1.,   2.,   3.,   5.,   8.,  13.,  21.,  34.,  55.,  89.])"
      ]
     },
     "execution_count": 66,
     "metadata": {},
     "output_type": "execute_result"
    }
   ],
   "source": [
    "compute_seq2(x, n)"
   ]
  },
  {
   "cell_type": "code",
   "execution_count": null,
   "metadata": {
    "collapsed": true
   },
   "outputs": [],
   "source": []
  }
 ],
 "metadata": {
  "kernelspec": {
   "display_name": "Python 3",
   "language": "python",
   "name": "python3"
  },
  "language_info": {
   "codemirror_mode": {
    "name": "ipython",
    "version": 3
   },
   "file_extension": ".py",
   "mimetype": "text/x-python",
   "name": "python",
   "nbconvert_exporter": "python",
   "pygments_lexer": "ipython3",
   "version": "3.6.4"
  }
 },
 "nbformat": 4,
 "nbformat_minor": 2
}
